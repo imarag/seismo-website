{
 "cells": [
  {
   "cell_type": "markdown",
   "metadata": {},
   "source": [
    "# Introduction"
   ]
  },
  {
   "cell_type": "markdown",
   "metadata": {},
   "source": [
    "Python is a multitasking programming language. There are many tasks that someone can accomplish by using it. Among the various libraries, tools, and functions available, Python is also great at manipulating files. It provides multiple libraries for file path handling, regular expression matching, creating, removing, renaming folders and files, searching directories, listing the content of folders and files, checking the existence of files, and more. Some of the most popular libraries used for this purpose are the os library, which provides a way to utilize various operating system functionalities, the pathlib library, which offers an approach to working with system paths and file manipulation, the shutil library, built on top of the os library, providing high-level file operations, and finally, the glob library, used for pattern matching. "
   ]
  },
  {
   "cell_type": "markdown",
   "metadata": {},
   "source": [
    "# Path Handling"
   ]
  },
  {
   "cell_type": "markdown",
   "metadata": {},
   "source": [
    "Python offers the os and the pathlib libraries for path handling and more specifically, the os.path module and the pathlib.Path class. Given the fact that there is a confusion about various path structure naming conventions, this article presents a specific naming convention that will be used throughout the document. The file path is the whole absolute path of a file which includes the path of the directory where it is located and the name of the file with its extension. The directory path is the full absolute path of a directory and the directory name is just the name of that directory. The basename is the name of the file with its extension. The extension is also called suffix. We present those definitions in the image below. "
   ]
  },
  {
   "cell_type": "markdown",
   "metadata": {},
   "source": [
    "![File path segments](images/file-structure.png)"
   ]
  },
  {
   "cell_type": "markdown",
   "metadata": {},
   "source": [
    "Let's initialize the libraries that we will use throughout the rest of the tutorial: "
   ]
  },
  {
   "cell_type": "code",
   "execution_count": 2,
   "metadata": {},
   "outputs": [],
   "source": [
    "from pathlib import Path\n",
    "import os\n",
    "import glob\n",
    "import shutil"
   ]
  },
  {
   "cell_type": "markdown",
   "metadata": {},
   "source": [
    "## Python os library"
   ]
  },
  {
   "cell_type": "markdown",
   "metadata": {},
   "source": [
    "The os.path module provides functionality for managing file paths. Let's explore the diverse capabilities it offers for manipulating these path components:\n"
   ]
  },
  {
   "cell_type": "markdown",
   "metadata": {},
   "source": [
    "- `os.getcwd()`, returns the current working directory as a string\n",
    "- `os.path.basename(path)`, retrieves the final segment of a path that does not finish with a path separator character\n",
    "- `os.path.dirname(path)`, returns the path up to the last segment that ends with a path separator character\n",
    "- `os.path.split(path)`, returns a tuple with the basename and the dirname of the given path (dirname, basename)\n",
    "- `os.path.splitext(path)`, splits a file path into the file path without its extension and the file extension\n",
    "- `os.path.join(path, *path)`, joins multiple path components into a single path\n",
    "- `os.path.exists(path)`, checks if a path exists\n",
    "- `os.path.isdir(path)`, checks if the given path points to a directory\n",
    "- `os.path.isfile(path)`, checks if the given path points to a file"
   ]
  },
  {
   "cell_type": "markdown",
   "metadata": {},
   "source": [
    "## os.getcwd()"
   ]
  },
  {
   "cell_type": "markdown",
   "metadata": {},
   "source": [
    "This function returns the current absolute working directory of your Python script as a string."
   ]
  },
  {
   "cell_type": "code",
   "execution_count": 3,
   "metadata": {},
   "outputs": [
    {
     "name": "stdout",
     "output_type": "stream",
     "text": [
      "c:\\Users\\giann\\Desktop\\seismo-website\\seismo-app\\src\\app\\lib\\notebooks\n"
     ]
    }
   ],
   "source": [
    "print(os.getcwd())"
   ]
  },
  {
   "cell_type": "markdown",
   "metadata": {},
   "source": [
    "## os.path.basename(path)"
   ]
  },
  {
   "cell_type": "markdown",
   "metadata": {},
   "source": [
    "Extract the base name of a file path. In other words, it is the last segment of a path that does not conclude with a path separator character."
   ]
  },
  {
   "cell_type": "code",
   "execution_count": null,
   "metadata": {},
   "outputs": [],
   "source": [
    "print(os.path.basename(\"c:/Users/User/Desktop/myfile.txt\"))\n",
    "print(os.path.basename(\"c:/Users/User/Desktop\"))\n",
    "print(os.path.basename(\"c:/Users/User/Desktop/\"))"
   ]
  },
  {
   "cell_type": "markdown",
   "metadata": {},
   "source": [
    "## os.path.dirname(path)"
   ]
  },
  {
   "cell_type": "markdown",
   "metadata": {},
   "source": [
    "This function essentially extracts everything from the beginning of the path up to the last path component with a path separator at its end. However, it will remove the last forward slash when it finds it. This is the directory path described above without the forward slash at the end."
   ]
  },
  {
   "cell_type": "code",
   "execution_count": null,
   "metadata": {},
   "outputs": [],
   "source": [
    "print(os.path.dirname(\"c:/Users/User/Desktop/myfile.txt\"))\n",
    "print(os.path.dirname(\"c:/Users/User/Desktop\"))\n",
    "print(os.path.dirname(\"c:/Users/User/Desktop/\"))"
   ]
  },
  {
   "cell_type": "markdown",
   "metadata": {},
   "source": [
    "## os.path.split(path)"
   ]
  },
  {
   "cell_type": "markdown",
   "metadata": {},
   "source": [
    "This function takes the path as input and returns a tuple with os.path.dirname as the first element and os.path.basename as the second element."
   ]
  },
  {
   "cell_type": "code",
   "execution_count": null,
   "metadata": {},
   "outputs": [],
   "source": [
    "dir_name, bs_name = os.path.split(\"c:/Users/User/Desktop/myfile.txt\")\n",
    "print(dir_name, bs_name)"
   ]
  },
  {
   "cell_type": "markdown",
   "metadata": {},
   "source": [
    "## os.path.splitext(path)"
   ]
  },
  {
   "cell_type": "markdown",
   "metadata": {},
   "source": [
    "This function is used to split a file path into the file path without its extension and the file extension (including the dot). In other words, it splits the path into a part up to the dot of the file (if there is a file) and a part that includes the dot and the extension. If there is no extension, the second returned element will be empty."
   ]
  },
  {
   "cell_type": "code",
   "execution_count": null,
   "metadata": {},
   "outputs": [],
   "source": [
    "print(os.path.splitext(\"c:/Users/User/Desktop/myfile.txt\"))\n",
    "print(os.path.splitext(\"c:/Users/User/Desktop/myfile\"))"
   ]
  },
  {
   "cell_type": "markdown",
   "metadata": {},
   "source": [
    "## os.path.join(path, *path)"
   ]
  },
  {
   "cell_type": "markdown",
   "metadata": {},
   "source": [
    "This function is used to join one or more path components together to create a valid file path. The return value is a concatenation of all the provided components. This function, ensures that your code works correctly on different platforms, handles both absolute and relative paths and makes the code more readable and cleaner."
   ]
  },
  {
   "cell_type": "code",
   "execution_count": 4,
   "metadata": {},
   "outputs": [
    {
     "name": "stdout",
     "output_type": "stream",
     "text": [
      "c:/Users/User\\Desktop\\new_folder/myfile.txt\n",
      "c:/Users/User\\Desktop\\myfile.txt\n",
      "c:/Users\\User/Desktop\\myfile.txt\n",
      "c:/Users/User\\Desktop\\index.html\n"
     ]
    }
   ],
   "source": [
    "print(os.path.join(\"c:/Users/User\", \"Desktop\", \"new_folder/myfile.txt\"))\n",
    "print(os.path.join(\"c:/Users/User\", \"Desktop\", \"myfile.txt\"))\n",
    "print(os.path.join(\"c:/Users\", \"User/Desktop\", \"myfile.txt\"))\n",
    "\n",
    "filename = \"index.html\"\n",
    "print(os.path.join(\"c:/Users/User\", \"Desktop\", filename))"
   ]
  },
  {
   "cell_type": "markdown",
   "metadata": {},
   "source": [
    "## os.path.exists(path)"
   ]
  },
  {
   "cell_type": "markdown",
   "metadata": {},
   "source": [
    "This function is used to check whether a file or directory exists at a given path."
   ]
  },
  {
   "cell_type": "code",
   "execution_count": null,
   "metadata": {},
   "outputs": [],
   "source": [
    "os.path.exists(\"c:/Users/User/Desktop/myfile.txt\")"
   ]
  },
  {
   "cell_type": "markdown",
   "metadata": {},
   "source": [
    "## os.path.isdir(path)"
   ]
  },
  {
   "cell_type": "markdown",
   "metadata": {},
   "source": [
    "This function is used to check whether a given path corresponds to a directory (True) or not (False). If the provided path does not exist, it will always return False."
   ]
  },
  {
   "cell_type": "code",
   "execution_count": 5,
   "metadata": {},
   "outputs": [
    {
     "data": {
      "text/plain": [
       "False"
      ]
     },
     "execution_count": 5,
     "metadata": {},
     "output_type": "execute_result"
    }
   ],
   "source": [
    "os.path.isdir(\"c:/Users/User/Desktop/myfile.txt\")"
   ]
  },
  {
   "cell_type": "markdown",
   "metadata": {},
   "source": [
    "## os.path.isfile(path)"
   ]
  },
  {
   "cell_type": "markdown",
   "metadata": {},
   "source": [
    "This function is used to check whether a given path corresponds to a file (True) or not (False). If the provided path does not exist, it will always return False."
   ]
  },
  {
   "cell_type": "code",
   "execution_count": null,
   "metadata": {},
   "outputs": [],
   "source": [
    "os.path.isfile(\"c:/Users/User/Desktop/myfile.txt\")"
   ]
  },
  {
   "cell_type": "markdown",
   "metadata": {},
   "source": [
    "Let's see some examples of using these functions together. Let's define a path of a file to use for the examples:"
   ]
  },
  {
   "cell_type": "code",
   "execution_count": null,
   "metadata": {},
   "outputs": [],
   "source": [
    "# initialize a file to use\n",
    "myfile = \"c:/Users/User/Desktop/mysite/templates/login.html\""
   ]
  },
  {
   "cell_type": "markdown",
   "metadata": {},
   "source": [
    "Start by getting the name of the parent directory of the file (directory name):"
   ]
  },
  {
   "cell_type": "code",
   "execution_count": null,
   "metadata": {},
   "outputs": [],
   "source": [
    "# get the name of the parent folder\n",
    "parent_dir_name = os.path.basename(os.path.dirname(myfile))\n",
    "print(parent_dir_name)"
   ]
  },
  {
   "cell_type": "markdown",
   "metadata": {},
   "source": [
    "To continue, suppose that we need to move the file inside a folder called auth that is located at the current working directory, with name \"login.html\" and we want to get the new file path: "
   ]
  },
  {
   "cell_type": "code",
   "execution_count": null,
   "metadata": {},
   "outputs": [],
   "source": [
    "# get the new file path\n",
    "new_path = os.path.join(os.path.dirname(myfile), \"auth\", \"login.html\")\n",
    "print(new_path)"
   ]
  },
  {
   "cell_type": "markdown",
   "metadata": {},
   "source": [
    "Lastly, let's say that we need to rename that login.html file that is located in the auth folder, to login-template.html."
   ]
  },
  {
   "cell_type": "code",
   "execution_count": null,
   "metadata": {},
   "outputs": [],
   "source": [
    "# create a new path of the renamed file\n",
    "new_renamed_file_path = os.path.splitext(new_path)[0]\n",
    "new_renamed_file_ext = os.path.splitext(new_path)[1]\n",
    "new_renamed_path = new_renamed_file_path + \"-template\" + new_renamed_file_ext\n",
    "print(new_renamed_path)"
   ]
  },
  {
   "cell_type": "markdown",
   "metadata": {},
   "source": [
    "There are easier ways to achieve the previous tasks. However, we do it this way for instructional purposes. "
   ]
  },
  {
   "cell_type": "markdown",
   "metadata": {},
   "source": [
    "## Python pathlib library"
   ]
  },
  {
   "cell_type": "markdown",
   "metadata": {},
   "source": [
    "As you can see the Python os library is great at handling the file paths. However, it gets really annoying sometimes when we have to write multiple functions one after another to simply get the name of a part of the path (e.g., os.path.basename(os.path.dirname(myfile))). You could import the basename and the dirname functions from the os.path module to write less code but there is a better solution to this: the Python pathlib library. It is built on top of the os library and provides an easier way to accomplish all of the previous tasks."
   ]
  },
  {
   "cell_type": "markdown",
   "metadata": {},
   "source": [
    "To use the pathlib library, wrap your file or directory path with the pathlib.Path class. When you use pathlib on a Windows system, this wraping will return a WindowsPath path object that is used to represent pathlib file paths. Similarly, it will return a PosixPath for a Linux system."
   ]
  },
  {
   "cell_type": "code",
   "execution_count": null,
   "metadata": {},
   "outputs": [],
   "source": [
    "# Initialize a pathlib path by wrapping your path with the pathlib.Path class\n",
    "pathlib_path = Path(myfile)\n",
    "print(type(pathlib_path))"
   ]
  },
  {
   "cell_type": "markdown",
   "metadata": {},
   "source": [
    "Just put your path inside the pathlib.Path class and you will have access to the following pathlib functionality. Note that with \"pathlib path\" we refer to the returned pathlib WindowsPath in case of Windows operating system or PosixPath in case of a Linux system."
   ]
  },
  {
   "cell_type": "markdown",
   "metadata": {},
   "source": [
    "- `WindowsPath.name`, returns the last component of the pathlib path which is the file name with its extension, as a string\n",
    "- `WindowsPath.stem`, provides the file name of the path without the file extension as a string\n",
    "- `WindowsPath.suffix`, retrieves the file extension, including the period, as a string\n",
    "- `WindowsPath.suffixes`, returns a list of file extensions for files with multiple extensions (e.g., .tar.gz)\n",
    "- `WindowsPath.parent`, extracts the directory path of the current path as a pathlib path\n",
    "- `WindowsPath.parents`, returns an iterator over all parent directories of the current path, as pathlib path objects\n",
    "- `WindowsPath.parts`, generates a tuple that contains all the path components, as strings\n",
    "- `WindowsPath.with_suffix`, returns the current pathlib path object with a modified file extension\n",
    "- `WindowsPath.with_name`, returns the current pathlib path object with different file name\n",
    "- `WindowsPath.with_stem`, returns the current pathlib path object with modified stem\n",
    "- `WindowsPath.joinpath`, joins one or more path components to the current pathlib path\n"
   ]
  },
  {
   "cell_type": "markdown",
   "metadata": {},
   "source": [
    "Let's explore these functions below to gain a deeper understanding of how they are used. Because of my Windows operating system, i will use WindowsPath as the pathlib path. "
   ]
  },
  {
   "cell_type": "markdown",
   "metadata": {},
   "source": [
    "## Pathlib Path path segments"
   ]
  },
  {
   "cell_type": "markdown",
   "metadata": {},
   "source": [
    "- `WindowsPath.name`\n",
    "- `WindowsPath.stem`\n",
    "- `WindowsPath.suffix`\n",
    "- `WindowsPath.suffixes`\n",
    "- `WindowsPath.parent`\n",
    "- `WindowsPath.parents`\n",
    "- `WindowsPath.parts`"
   ]
  },
  {
   "cell_type": "markdown",
   "metadata": {},
   "source": [
    "The `WindowsPath.name` attribute returns the last component of the path, which is typically the file name with the extension. The `WindowsPath.stem` attribute returns the file name without the file extension. The `WindowsPath.suffix` outputs the file extension, including the period (`'.'`). Use the `WindowsPath.suffixes` in cases where a file has multiple extensions (e.g., `.tar.gz`). In addition to these, the `WindowsPath.parent` extracts the parent directory or the directory path of the current path. Then utilize the `WindowsPath.parents` to return an iterator over all the parent directories from the current path to the root. Lastly, apply the `WindowsPath.parts` to get a tuple of all the components in the path.\n"
   ]
  },
  {
   "cell_type": "code",
   "execution_count": 7,
   "metadata": {},
   "outputs": [
    {
     "name": "stdout",
     "output_type": "stream",
     "text": [
      "mypath.name: myfile.txt\n",
      "mypath.stem: myfile\n",
      "mypath.suffix: .txt\n",
      "mypath.parent: c:\\Users\\User\\Desktop\n",
      "mypath.parents: <WindowsPath.parents>\n",
      "mypath.parts: ('c:\\\\', 'Users', 'User', 'Desktop', 'myfile.txt')\n",
      "list(mypath.parents): [WindowsPath('c:/Users/User/Desktop'), WindowsPath('c:/Users/User'), WindowsPath('c:/Users'), WindowsPath('c:/')]\n"
     ]
    }
   ],
   "source": [
    "mypath = Path(\"c:/Users/User/Desktop/myfile.txt\")\n",
    "print(\"mypath.name:\", mypath.name)\n",
    "print(\"mypath.stem:\", mypath.stem)\n",
    "print(\"mypath.suffix:\", mypath.suffix)\n",
    "print(\"mypath.parent:\", mypath.parent)\n",
    "print(\"mypath.parents:\", mypath.parents)\n",
    "print(\"mypath.parts:\", mypath.parts)\n",
    "print(\"list(mypath.parents):\", list(mypath.parents))"
   ]
  },
  {
   "cell_type": "markdown",
   "metadata": {},
   "source": [
    "## Pathlib Path change segments"
   ]
  },
  {
   "cell_type": "markdown",
   "metadata": {},
   "source": [
    "- `WindowsPath.with_stem(new_stem)`\n",
    "- `WindowsPath.with_name(new_name)`\n",
    "- `WindowsPath.with_suffix(new_suffix)`"
   ]
  },
  {
   "cell_type": "markdown",
   "metadata": {},
   "source": [
    "The `WindowsPath.with_stem(new_stem)` creates a new `WindowsPath` object with the same path as the original but with a modified stem (`new_stem`). This is useful for renaming files while keeping the same directory and extension intact. Similarly, the `WindowsPath.with_name(new_name)` creates a modified path with `new_name` as its new name. Lastly, the `WindowsPath.with_suffix(new_suffix)` keeps the original path but modifies the file extension with new_suffix."
   ]
  },
  {
   "cell_type": "code",
   "execution_count": 8,
   "metadata": {},
   "outputs": [
    {
     "name": "stdout",
     "output_type": "stream",
     "text": [
      "initial path: c:\\Users\\User\\Desktop\\myfile.txt\n",
      "with_suffix(\".png\"):  c:\\Users\\User\\Desktop\\myfile.png\n",
      "with_stem(\"another_file\"):  c:\\Users\\User\\Desktop\\another_file.txt\n",
      "with_name(\"another_file.csv\"):  c:\\Users\\User\\Desktop\\another_file.csv\n"
     ]
    }
   ],
   "source": [
    "mypath = Path(\"c:/Users/User/Desktop/myfile.txt\")\n",
    "print('initial path:', mypath)\n",
    "print('with_suffix(\".png\"): ', mypath.with_suffix(\".png\"))\n",
    "print('with_stem(\"another_file\"): ', mypath.with_stem(\"another_file\"))\n",
    "print('with_name(\"another_file.csv\"): ', mypath.with_name(\"another_file.csv\"))\n"
   ]
  },
  {
   "cell_type": "markdown",
   "metadata": {},
   "source": [
    "## Pathlib join path"
   ]
  },
  {
   "cell_type": "markdown",
   "metadata": {},
   "source": [
    "- `WindowsPath.joinpath(other)`"
   ]
  },
  {
   "cell_type": "markdown",
   "metadata": {},
   "source": [
    "The `WindowsPath.joinpath` is a method for creating a new path by joining one or more components to an existing pathlib path object (`WindowsPath` or `PosixPath`). An alternative to `WindowsPath.joinpath` is using the forward slash character (`'/'`). You need to have at least one pathlib path and one or more Python strings to join them together."
   ]
  },
  {
   "cell_type": "code",
   "execution_count": 9,
   "metadata": {},
   "outputs": [
    {
     "name": "stdout",
     "output_type": "stream",
     "text": [
      "c:\\Users\\user\\Desktop\\myfile.txt\n",
      "c:\\Users\\user\\Desktop\\myfile.txt\n",
      "c:\\Users\\user\\Desktop\\myfile.txt\n",
      "c:\\Users\\user\\Desktop\\myfile.txt\n"
     ]
    }
   ],
   "source": [
    "print('c:/Users' / Path('user') / 'Desktop' / 'myfile.txt')\n",
    "print('c:/Users' / Path('user') / 'Desktop' / Path('myfile.txt'))\n",
    "print(Path('c:/Users') / 'user' / 'Desktop' / 'myfile.txt')\n",
    "print(Path('c:/Users') / Path('user') / Path('Desktop') / Path('myfile.txt'))"
   ]
  },
  {
   "cell_type": "markdown",
   "metadata": {},
   "source": [
    "Other functionality similar to the os library includes the `WindowsPath.exists()` to check if a file or directory exists, the `pathlib.Path.cwd()` and `pathlib.Path.home()` to get the current working directory and the user's home directory, the `WindowsPath.is_dir()` and `WindowsPath.is_file()` to check whether a path points to a file or a directory and lastly the `WindowsPath.as_posix()` to convert the windows backslashes (`\"\\\"`) to forward slashes (`\"/\"`). Check the documentation for more information. "
   ]
  },
  {
   "cell_type": "markdown",
   "metadata": {},
   "source": [
    "# Managing Files and Folders"
   ]
  },
  {
   "cell_type": "markdown",
   "metadata": {},
   "source": [
    "During the path handling we used the python os and pathlib libraries to manipulate file and directory paths. These libraries in combination with other (e.g., *shutil*) can also be used effectively to create, move, copy and rename files and folders. Some of the most important functions are listed below:"
   ]
  },
  {
   "cell_type": "markdown",
   "metadata": {},
   "source": [
    "- `os.mkdir(path)`, creates a new directory specified by path\n",
    "- `os.chdir(path)`, changes the current working directory to path\n",
    "- `os.makedirs(path, exist_ok=False)`, creates any necessary parent directories to complete the path\n",
    "- `os.rmdir(path)`, removes the directory specified by path if it's empty. Use shutil.rmtree if not\n",
    "- `shutil.rmtree(path, ignore_errors=False)`, recursively removes a non-empty directory specified by path. Use `ignore_errors=True` to ignore any errors during the removal\n",
    "- `shutil.move(src, dst)`, moves a file or directory from src to dst\n",
    "- `shutil.copyfile(src, dst)`, copy only the content of a file from src to dst, without preserving any metadata (file size, creation timestamp, modification timestamp etc.)"
   ]
  },
  {
   "cell_type": "markdown",
   "metadata": {},
   "source": [
    "Utilize the `shutil.copyfile(src, dst)` to copy only the content of the file. Use `shutil.copy(src, dst)`, to copy a file from src to dst while preserving its content and permissions but not its metadata. In order to copy a file from src to dst while preserving both its content and metadata, use the `shutil.copy2(src, dst)`. Lastly, utilize the `shutil.copytree(src, dst)`, to recursively copy a directory and its content from src to dst. "
   ]
  },
  {
   "cell_type": "markdown",
   "metadata": {},
   "source": [
    "To enhance understanding, let's illustrate the preceding functions with examples. Suppose we want to build the following file structure shown at the figure below: "
   ]
  },
  {
   "cell_type": "markdown",
   "metadata": {},
   "source": [
    "![An example of a file structure](images/path_structure.png)"
   ]
  },
  {
   "cell_type": "markdown",
   "metadata": {},
   "source": [
    "Let's check our current working directory:"
   ]
  },
  {
   "cell_type": "code",
   "execution_count": 10,
   "metadata": {},
   "outputs": [
    {
     "name": "stdout",
     "output_type": "stream",
     "text": [
      "c:\\Users\\giann\\Desktop\\seismo-website\\seismo-app\\src\\app\\lib\\notebooks\n"
     ]
    }
   ],
   "source": [
    "# get the current working directory\n",
    "print(os.getcwd())"
   ]
  },
  {
   "cell_type": "markdown",
   "metadata": {},
   "source": [
    "Begin by creating a root folder named MyProject in the current working directory and navigate into it. If it already exists, delete it: "
   ]
  },
  {
   "cell_type": "code",
   "execution_count": null,
   "metadata": {},
   "outputs": [],
   "source": [
    "# if the folder exists, delete it\n",
    "if os.path.exists(\"C:/Users/Ioannis/Desktop/Myproject\"):\n",
    "    shutil.rmtree(\"C:/Users/Ioannis/Desktop/Myproject\")\n",
    "\n",
    "# create the \"MyProject\" folder and change the directory inside it\n",
    "os.mkdir(\"C:/Users/Ioannis/Desktop/Myproject\")\n",
    "os.chdir(\"C:/Users/Ioannis/Desktop/Myproject\")"
   ]
  },
  {
   "cell_type": "markdown",
   "metadata": {},
   "source": [
    "Now get the current working directory again: "
   ]
  },
  {
   "cell_type": "code",
   "execution_count": 11,
   "metadata": {},
   "outputs": [
    {
     "name": "stdout",
     "output_type": "stream",
     "text": [
      "c:\\Users\\giann\\Desktop\\seismo-website\\seismo-app\\src\\app\\lib\\notebooks\n"
     ]
    }
   ],
   "source": [
    "# get the current working directory\n",
    "print(os.getcwd())"
   ]
  },
  {
   "cell_type": "markdown",
   "metadata": {},
   "source": [
    "Create the *Static* and the *Templates* folders inside the MyProject root folder:\n"
   ]
  },
  {
   "cell_type": "code",
   "execution_count": null,
   "metadata": {},
   "outputs": [],
   "source": [
    "# create the \"Static\" and \"Templates\" folders\n",
    "os.mkdir(\"Static\")\n",
    "os.mkdir(\"Templates\")"
   ]
  },
  {
   "cell_type": "markdown",
   "metadata": {},
   "source": [
    "Use the `os.listdir(path)` function to list the content of a folder. Use a dot (`\".\"`) to denote the current working directory and the double dot (`\"..\"`) to signify the parent directory. If you don't provide any path, it will list the content of the current working directory. This function will show the file and the directory names inside the specified path. "
   ]
  },
  {
   "cell_type": "code",
   "execution_count": null,
   "metadata": {},
   "outputs": [],
   "source": [
    "# list the contents of the \"MyProject\" folder\n",
    "os.listdir(\".\")"
   ]
  },
  {
   "cell_type": "markdown",
   "metadata": {},
   "source": [
    "I have some necessary files in a folder named *myfiles*, located in a different directory in my machine. For this reason, I will move this folder into the MyProject directory to use the files later. "
   ]
  },
  {
   "cell_type": "code",
   "execution_count": null,
   "metadata": {},
   "outputs": [],
   "source": [
    "# list the \"MyProject\" folder\n",
    "# we will see the two previously created, folders\n",
    "# and the \"myfiles\" folder with the available files\n",
    "os.listdir()"
   ]
  },
  {
   "cell_type": "markdown",
   "metadata": {},
   "source": [
    "Check the content of the *myfiles* folder:"
   ]
  },
  {
   "cell_type": "code",
   "execution_count": null,
   "metadata": {},
   "outputs": [],
   "source": [
    "# list the \"myfiles\" folder\n",
    "os.listdir(\"myfiles\")"
   ]
  },
  {
   "cell_type": "markdown",
   "metadata": {},
   "source": [
    "At this point we can start building the root directory structure by moving the files to their respective folders. Continue, with the index.html and the *about.html* files: "
   ]
  },
  {
   "cell_type": "code",
   "execution_count": null,
   "metadata": {},
   "outputs": [],
   "source": [
    "# move the index.html and the about.html files in the \"Templates\" folder\n",
    "shutil.move(\"myfiles/index.html\", \"Templates\")\n",
    "shutil.move(\"myfiles/about.html\", \"Templates\")"
   ]
  },
  {
   "cell_type": "markdown",
   "metadata": {},
   "source": [
    "Let's see the content of the *Templates* folder now: "
   ]
  },
  {
   "cell_type": "code",
   "execution_count": null,
   "metadata": {},
   "outputs": [],
   "source": [
    "# list the \"Templates\" folder\n",
    "os.listdir(\"Templates\")"
   ]
  },
  {
   "cell_type": "markdown",
   "metadata": {},
   "source": [
    "Create the respective sub-folders: "
   ]
  },
  {
   "cell_type": "code",
   "execution_count": null,
   "metadata": {},
   "outputs": [],
   "source": [
    "# create a folder called \"AUTH\" inside the \"Templates\" folder\n",
    "os.mkdir(\"Templates/AUTH\")"
   ]
  },
  {
   "cell_type": "markdown",
   "metadata": {},
   "source": [
    "And move the respective files from the myfiles folder, in the *AUTH* folder:  "
   ]
  },
  {
   "cell_type": "code",
   "execution_count": null,
   "metadata": {},
   "outputs": [],
   "source": [
    "# move the \"login.html\" file in the \"AUTH\" folder\n",
    "shutil.move(\"myfiles/login.html\", \"Templates/AUTH\")"
   ]
  },
  {
   "cell_type": "markdown",
   "metadata": {},
   "source": [
    "Now we need another file called *register.html* that it is going to be similar to the *login.html* file. For this reason make a copy of the *login.html* file in the AUTH folder with name *register.html*: "
   ]
  },
  {
   "cell_type": "code",
   "execution_count": null,
   "metadata": {},
   "outputs": [],
   "source": [
    "# copy the \"login.html\" in the same folder (\"AUTH\") with name \"register.html\"\n",
    "shutil.copyfile(\"Templates/AUTH/login.html\", \"Templates/AUTH/register.html\")"
   ]
  },
  {
   "cell_type": "markdown",
   "metadata": {},
   "source": [
    "Check the content of the *AUTH* folder now:"
   ]
  },
  {
   "cell_type": "code",
   "execution_count": null,
   "metadata": {},
   "outputs": [],
   "source": [
    "# check the content of the \"AUTH\" folder\n",
    "os.listdir(\"Templates/AUTH\")"
   ]
  },
  {
   "cell_type": "markdown",
   "metadata": {},
   "source": [
    "Now change the current working directory inside the *Static* folder and create the three folders shown in the image (*Images*, *Javascript*, *CSS*):"
   ]
  },
  {
   "cell_type": "code",
   "execution_count": null,
   "metadata": {},
   "outputs": [],
   "source": [
    "# change the current directory to the \"Static\" folder\n",
    "os.chdir(\"Static\")"
   ]
  },
  {
   "cell_type": "code",
   "execution_count": null,
   "metadata": {},
   "outputs": [],
   "source": [
    "# create the three folders\n",
    "os.mkdir(\"Images\")\n",
    "os.mkdir(\"Javascript\")\n",
    "os.mkdir(\"CSS\")"
   ]
  },
  {
   "cell_type": "markdown",
   "metadata": {},
   "source": [
    "List the content of the *Static* folder: "
   ]
  },
  {
   "cell_type": "code",
   "execution_count": null,
   "metadata": {},
   "outputs": [],
   "source": [
    "# list the \"Static\" folder content\n",
    "os.listdir(\".\")"
   ]
  },
  {
   "cell_type": "markdown",
   "metadata": {},
   "source": [
    "Move the rest of the files into its corresponding folders:  "
   ]
  },
  {
   "cell_type": "code",
   "execution_count": null,
   "metadata": {},
   "outputs": [],
   "source": [
    "# move the rest files\n",
    "shutil.move(\"../myfiles/site-logo.svg\", \"Images\")\n",
    "shutil.move(\"../myfiles/about.png\", \"Images\")\n",
    "shutil.move(\"../myfiles/index.js\", \"Javascript\")\n",
    "shutil.move(\"../myfiles/main.css\", \"CSS\")"
   ]
  },
  {
   "cell_type": "markdown",
   "metadata": {},
   "source": [
    "Lastly, check the content of these three folders: "
   ]
  },
  {
   "cell_type": "code",
   "execution_count": null,
   "metadata": {},
   "outputs": [],
   "source": [
    "# list the content of the created folders\n",
    "os.listdir(\"Images\")\n",
    "os.listdir(\"Javascript\")\n",
    "os.listdir(\"CSS\")"
   ]
  },
  {
   "cell_type": "markdown",
   "metadata": {},
   "source": [
    "We don't need the *myfiles* folder inside the *MyProject* root folder now. Remove it:  "
   ]
  },
  {
   "cell_type": "code",
   "execution_count": null,
   "metadata": {},
   "outputs": [],
   "source": [
    "# now delete the \"myfiles\" folder that is located in the \"MyProject\" folder\n",
    "# if the folder is not empty use the rmtree command\n",
    "# else use the rmdir command\n",
    "\n",
    "if os.listdir(\"../myfiles\"):\n",
    "    shutil.rmtree(\"../myfiles\")\n",
    "else:\n",
    "    os.rmdir(\"../myfiles\")"
   ]
  },
  {
   "cell_type": "markdown",
   "metadata": {},
   "source": [
    "# Listing and searching folders"
   ]
  },
  {
   "cell_type": "markdown",
   "metadata": {},
   "source": [
    "While creating the file structure earlier, we utilized the `os.listdir(path)` function to enumerate the contents of a folder. This allowed us to retrieve the names of all files and sub-folders within the specified folder path. Nonetheless, *glob*, *os* and *pathlib* libraries offer additional functions for this purpose. Let's explore these alternatives below:"
   ]
  },
  {
   "cell_type": "markdown",
   "metadata": {},
   "source": [
    "- `os.listdir(path)`, returns a list of file names and sub-directory names in the specified directory (path)\n",
    "- `glob.glob(path)`, returns a list of file paths that match the specified path pattern\n",
    "- `Path.iterdir(path)`, returns an iterator over the entries (both files and directories) in the current directory specified by path\n"
   ]
  },
  {
   "cell_type": "markdown",
   "metadata": {},
   "source": [
    "## os.listdir(path)"
   ]
  },
  {
   "cell_type": "markdown",
   "metadata": {},
   "source": [
    "This command is used in Python to list the files and directories within a directory specified by the *path* parameter. It returns a list of strings, where each string represents the name of a file or directory in the specified path"
   ]
  },
  {
   "cell_type": "code",
   "execution_count": null,
   "metadata": {},
   "outputs": [],
   "source": [
    "os.listdir(\"c:/Users/User/Desktop/\")"
   ]
  },
  {
   "cell_type": "markdown",
   "metadata": {},
   "source": [
    "## glob.glob(path)"
   ]
  },
  {
   "cell_type": "markdown",
   "metadata": {},
   "source": [
    "This command is used to search for files and directories that match a specified path pattern using the glob-style wildcard characters (e.g., `*` for matching any characters and `?` for matching a single character). It returns a list of absolute file paths as strings that match the given pattern. The *glob* module is used for this operation, and it allows you to perform more advanced pattern-based searches within directories. Use `recursive=True` to recursively search the whole directory in depth. If `recursive` is `True`, the pattern `'**'` will match any files and zero or more directories, subdirectories."
   ]
  },
  {
   "cell_type": "code",
   "execution_count": null,
   "metadata": {},
   "outputs": [],
   "source": [
    "pattern = \"*.txt\"\n",
    "matching_files = glob.glob(pattern)\n",
    "\n",
    "for file_path in matching_files:\n",
    "    print(file_path)"
   ]
  },
  {
   "cell_type": "markdown",
   "metadata": {},
   "source": [
    "## Path.iterdir()"
   ]
  },
  {
   "cell_type": "code",
   "execution_count": null,
   "metadata": {},
   "outputs": [],
   "source": [
    "pathlib_path = Path(\"path_to_directory\")\n",
    "\n",
    "for item in pathlib_path.iterdir():\n",
    "    if item.is_file():\n",
    "        print(f\"File: {item}\")\n",
    "    elif item.is_dir():\n",
    "        print(f\"Directory: {item}\")"
   ]
  }
 ],
 "metadata": {
  "kernelspec": {
   "display_name": "base",
   "language": "python",
   "name": "python3"
  },
  "language_info": {
   "codemirror_mode": {
    "name": "ipython",
    "version": 3
   },
   "file_extension": ".py",
   "mimetype": "text/x-python",
   "name": "python",
   "nbconvert_exporter": "python",
   "pygments_lexer": "ipython3",
   "version": "3.11.9"
  }
 },
 "nbformat": 4,
 "nbformat_minor": 2
}
